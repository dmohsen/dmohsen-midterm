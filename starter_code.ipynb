{
  "cells": [
    {
      "cell_type": "markdown",
      "metadata": {
        "id": "4HJVSs56bzDS"
      },
      "source": [
        "# Libraries"
      ]
    },
    {
      "cell_type": "code",
      "execution_count": 56,
      "metadata": {
        "id": "jHd0KOs_bzDS"
      },
      "outputs": [],
      "source": [
        "import pickle\n",
        "import pandas as pd\n",
        "import seaborn as sns\n",
        "from os.path import exists\n",
        "import matplotlib.pyplot as plt\n",
        "from sklearn.neighbors import KNeighborsClassifier\n",
        "from sklearn.model_selection import train_test_split\n",
        "from sklearn.metrics import accuracy_score, confusion_matrix\n",
        "from datetime import datetime\n",
        "from sklearn.ensemble import RandomForestClassifier"
      ]
    },
    {
      "cell_type": "markdown",
      "metadata": {
        "id": "oUTcfPtybzDT"
      },
      "source": [
        "# Loading the Files\n",
        "\n",
        "Download the csv files into the `data/` directory."
      ]
    },
    {
      "cell_type": "code",
      "execution_count": 57,
      "metadata": {
        "colab": {
          "base_uri": "https://localhost:8080/",
          "height": 1000
        },
        "id": "0MpVR7pqbzDT",
        "outputId": "7518c486-b116-4ecc-d49a-330fe38fbda0"
      },
      "outputs": [
        {
          "output_type": "stream",
          "name": "stdout",
          "text": [
            "train.csv shape is  (1608083, 9)\n",
            "test.csv shape is  (212192, 2)\n",
            "\n",
            "        Id   ProductId          UserId  HelpfulnessNumerator  \\\n",
            "0   914403  B0009W5KHM   AV6QDP8Q0ONK4                     2   \n",
            "1   354887  6303079709  A2I8RXJN80A2D2                     0   \n",
            "2  1407653  B004H0M2XC  A3FHV3RV8Z12E6                     0   \n",
            "3  1377458  B003ZJ9536  A12VLTA3ZHVPUY                     1   \n",
            "4   475323  630574453X  A13NM1PES9OXVN                     2   \n",
            "\n",
            "   HelpfulnessDenominator        Time  \\\n",
            "0                       2  1341014400   \n",
            "1                       0  1168819200   \n",
            "2                       0  1386201600   \n",
            "3                       1  1348704000   \n",
            "4                       3   970012800   \n",
            "\n",
            "                                         Summary  \\\n",
            "0                                  GOOD FUN FILM   \n",
            "1                                   Movie Review   \n",
            "2             When is it a good time to Consent?   \n",
            "3                                          TRUTH   \n",
            "4  Intelligent and bittersweet -- stays with you   \n",
            "\n",
            "                                                Text  Score  \n",
            "0  While most straight to DVD films are not worth...    5.0  \n",
            "1  I have wanted this one for sometime, also.  I ...    5.0  \n",
            "2  Actually this was a pretty darn good indie fil...    4.0  \n",
            "3  Episodes 37 to 72 of the series press on in a ...    5.0  \n",
            "4  I was really impressed with this movie, but wa...    3.0  \n",
            "\n",
            "        Id  Score\n",
            "0  1323432    NaN\n",
            "1  1137299    NaN\n",
            "2  1459366    NaN\n",
            "3   931601    NaN\n",
            "4  1311995    NaN\n",
            "\n",
            "                 Id  HelpfulnessNumerator  HelpfulnessDenominator  \\\n",
            "count  1.608083e+06          1.608083e+06            1.608083e+06   \n",
            "mean   8.487663e+05          3.570832e+00            5.303431e+00   \n",
            "std    4.900996e+05          1.739343e+01            2.034847e+01   \n",
            "min    0.000000e+00          0.000000e+00            0.000000e+00   \n",
            "25%    4.242705e+05          0.000000e+00            0.000000e+00   \n",
            "50%    8.487800e+05          1.000000e+00            1.000000e+00   \n",
            "75%    1.273250e+06          3.000000e+00            5.000000e+00   \n",
            "max    1.697532e+06          6.084000e+03            6.510000e+03   \n",
            "\n",
            "               Time         Score  \n",
            "count  1.608083e+06  1.485341e+06  \n",
            "mean   1.262392e+09  4.110517e+00  \n",
            "std    1.289408e+08  1.197651e+00  \n",
            "min    1.360000e+02  1.000000e+00  \n",
            "25%    1.164326e+09  4.000000e+00  \n",
            "50%    1.307491e+09  5.000000e+00  \n",
            "75%    1.373242e+09  5.000000e+00  \n",
            "max    1.406074e+09  5.000000e+00  \n"
          ]
        },
        {
          "output_type": "display_data",
          "data": {
            "text/plain": [
              "<Figure size 640x480 with 1 Axes>"
            ],
            "image/png": "[encoded data removed]"
          },
          "metadata": {}
        },
        {
          "output_type": "stream",
          "name": "stdout",
          "text": [
            "\n",
            "EVERYTHING IS PROPERLY SET UP! YOU ARE READY TO START\n"
          ]
        }
      ],
      "source": [
        "trainingSet = pd.read_csv(\"train.csv\")\n",
        "testingSet = pd.read_csv(\"test.csv\")\n",
        "\n",
        "print(\"train.csv shape is \", trainingSet.shape)\n",
        "print(\"test.csv shape is \", testingSet.shape)\n",
        "\n",
        "print()\n",
        "\n",
        "print(trainingSet.head())\n",
        "print()\n",
        "print(testingSet.head())\n",
        "\n",
        "print()\n",
        "\n",
        "print(trainingSet.describe())\n",
        "\n",
        "trainingSet['Score'].value_counts().plot(kind='bar', legend=True, alpha=.5)\n",
        "plt.show()\n",
        "\n",
        "print()\n",
        "print(\"EVERYTHING IS PROPERLY SET UP! YOU ARE READY TO START\")"
      ]
    },
    {
      "cell_type": "markdown",
      "metadata": {
        "id": "NMh2nbnObzDT"
      },
      "source": [
        "# Adding Features"
      ]
    },
    {
      "cell_type": "code",
      "execution_count": 58,
      "metadata": {
        "id": "RRShJAQxbzDT"
      },
      "outputs": [],
      "source": [
        "def add_features_to(df):\n",
        "    # Calculate the helpfulness ratio safely\n",
        "    df['Helpfulness'] = df['HelpfulnessNumerator'] / df['HelpfulnessDenominator'].replace(0, 1)\n",
        "    df['Helpfulness'].fillna(0, inplace=True)\n",
        "\n",
        "    df['Date'] = pd.to_datetime(df['Time'], unit='s')\n",
        "    latest_date = df['Date'].max()\n",
        "    df['Review_Age'] = (latest_date - df['Date']).dt.days\n",
        "\n",
        "    return df\n",
        "\n",
        "\n",
        "# Load the feature extracted files if they've already been generated\n",
        "if exists('X_train.csv'):\n",
        "    X_train = pd.read_csv(\"X_train.csv\")\n",
        "if exists('X_submission.csv'):\n",
        "    X_submission = pd.read_csv(\"X_submission.csv\")\n",
        "\n",
        "else:\n",
        "    # Process the DataFrame\n",
        "    train = add_features_to(trainingSet)\n",
        "\n",
        "    # Merge on Id so that the submission set can have feature columns as well\n",
        "    X_submission = pd.merge(train, testingSet, left_on='Id', right_on='Id')\n",
        "    X_submission = X_submission.drop(columns=['Score_x'])\n",
        "    X_submission = X_submission.rename(columns={'Score_y': 'Score'})\n",
        "\n",
        "    # The training set is where the score is not null\n",
        "    X_train =  train[train['Score'].notnull()]\n",
        "\n",
        "    X_submission.to_csv(\"X_submission.csv\", index=False)\n",
        "    X_train.to_csv(\"X_train.csv\", index=False)"
      ]
    },
    {
      "cell_type": "markdown",
      "metadata": {
        "id": "oPeNNa5fbzDT"
      },
      "source": [
        "# Sample + Split into training and testing set"
      ]
    },
    {
      "cell_type": "code",
      "execution_count": 59,
      "metadata": {
        "id": "PcFPiHTGbzDT"
      },
      "outputs": [],
      "source": [
        "# Split training set into training and testing set\n",
        "X_train, X_test, Y_train, Y_test = train_test_split(\n",
        "    X_train.drop(columns=['Score']),\n",
        "    X_train['Score'],\n",
        "    test_size=1/4.0,\n",
        "    random_state=0\n",
        ")"
      ]
    },
    {
      "cell_type": "markdown",
      "metadata": {
        "id": "j8DoQtCGbzDT"
      },
      "source": [
        "# Feature Selection"
      ]
    },
    {
      "cell_type": "code",
      "execution_count": 60,
      "metadata": {
        "scrolled": true,
        "id": "wGlcr7YBbzDU"
      },
      "outputs": [],
      "source": [
        "features = ['HelpfulnessNumerator', 'HelpfulnessDenominator', 'Time', 'Helpfulness', 'Review_Age']\n",
        "\n",
        "X_train_select = X_train[features]\n",
        "X_test_select = X_test[features]\n",
        "X_submission_select = X_submission[features]"
      ]
    },
    {
      "cell_type": "markdown",
      "metadata": {
        "id": "848dtErzbzDU"
      },
      "source": [
        "# Model Creation"
      ]
    },
    {
      "cell_type": "code",
      "execution_count": 61,
      "metadata": {
        "id": "RKAQ-aL0bzDU"
      },
      "outputs": [],
      "source": [
        "# Learn the model\n",
        "model = RandomForestClassifier(n_estimators=100, max_depth=10, random_state=42)\n",
        "model.fit(X_train_select, Y_train)\n",
        "\n",
        "# Predict the score using the model\n",
        "Y_test_predictions = model.predict(X_test_select)"
      ]
    },
    {
      "cell_type": "markdown",
      "metadata": {
        "id": "Ax5uuVz5bzDU"
      },
      "source": [
        "# Model Evaluation"
      ]
    },
    {
      "cell_type": "code",
      "execution_count": 62,
      "metadata": {
        "id": "9r4jCADXbzDU",
        "colab": {
          "base_uri": "https://localhost:8080/",
          "height": 489
        },
        "outputId": "07b963c6-6834-4a35-8f15-0e2be1d639af"
      },
      "outputs": [
        {
          "output_type": "stream",
          "name": "stdout",
          "text": [
            "Accuracy on testing set =  0.5527231402287955\n"
          ]
        },
        {
          "output_type": "display_data",
          "data": {
            "text/plain": [
              "<Figure size 640x480 with 2 Axes>"
            ],
            "image/png": "[encoded data removed]"
          },
          "metadata": {}
        }
      ],
      "source": [
        "# Evaluate your model on the testing set\n",
        "print(\"Accuracy on testing set = \", accuracy_score(Y_test, Y_test_predictions))\n",
        "\n",
        "# Plot a confusion matrix\n",
        "cm = confusion_matrix(Y_test, Y_test_predictions, normalize='true')\n",
        "sns.heatmap(cm, annot=True)\n",
        "plt.title('Confusion matrix of the classifier')\n",
        "plt.xlabel('Predicted')\n",
        "plt.ylabel('True')\n",
        "plt.show()"
      ]
    },
    {
      "cell_type": "markdown",
      "metadata": {
        "id": "q9zpRkDtbzDU"
      },
      "source": [
        "# Create submission file"
      ]
    },
    {
      "cell_type": "code",
      "execution_count": 63,
      "metadata": {
        "id": "5AzvlmAkbzDU"
      },
      "outputs": [],
      "source": [
        "# Create the submission file\n",
        "X_submission['Score'] = model.predict(X_submission_select)\n",
        "submission = X_submission[['Id', 'Score']]\n",
        "submission.to_csv(\"submission.csv\", index=False)"
      ]
    },
    {
      "cell_type": "code",
      "execution_count": 63,
      "metadata": {
        "id": "r0HEikEabzDU"
      },
      "outputs": [],
      "source": []
    }
  ],
  "metadata": {
    "kernelspec": {
      "display_name": "Python 3 (ipykernel)",
      "language": "python",
      "name": "python3"
    },
    "language_info": {
      "codemirror_mode": {
        "name": "ipython",
        "version": 3
      },
      "file_extension": ".py",
      "mimetype": "text/x-python",
      "name": "python",
      "nbconvert_exporter": "python",
      "pygments_lexer": "ipython3",
      "version": "3.8.8"
    },
    "colab": {
      "provenance": []
    }
  },
  "nbformat": 4,
  "nbformat_minor": 0
}